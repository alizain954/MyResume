{
 "cells": [
  {
   "cell_type": "markdown",
   "id": "712690a4-6090-4661-a9ea-c3cb86c2afdf",
   "metadata": {},
   "source": [
    "Ali Zain"
   ]
  },
  {
   "cell_type": "raw",
   "id": "1fcb6e8a-2233-41f4-81be-ed4af23558cb",
   "metadata": {
    "scrolled": true
   },
   "source": [
    "+92 3068976305 | zali83715@gmail.com | Lahore, Pakistan"
   ]
  },
  {
   "cell_type": "markdown",
   "id": "26d2db0c-5de3-43cb-b518-2674dcb1c80a",
   "metadata": {},
   "source": [
    "Python Developer"
   ]
  },
  {
   "cell_type": "markdown",
   "id": "ee6a58f1-3c09-46b0-810a-01f688e5b047",
   "metadata": {},
   "source": [
    "An excellent team player who is flexible and has a positive attitude towards achieving the goals to the best of my abilities. Knowledgeable Business Intelligence Developer skilled in data collection, data analysis and generating insight from data. A solutions driven analyst focused to achieve improved business and operational processes with the use of analytical abilities and a technical background.\n"
   ]
  },
  {
   "cell_type": "markdown",
   "id": "dc51491b-60ff-4b73-8c56-d5a9fd3c4ff6",
   "metadata": {},
   "source": [
    "EDUCATION\n"
   ]
  },
  {
   "cell_type": "markdown",
   "id": "b7b04e82-0ce3-45ac-b08f-d819106ca056",
   "metadata": {},
   "source": [
    "MS Data Science | PUCIT, Lahore\n",
    "\n",
    "    2022 - Continue\n",
    "\n",
    "BS Computer Science | GCUF, Layyah Campus\n",
    "\n",
    "    Oct 2017 - August 2021\n"
   ]
  },
  {
   "cell_type": "markdown",
   "id": "a5739e9a-31a7-4546-a666-42f5e7c775dd",
   "metadata": {},
   "source": [
    "WORK EXPERIENCE"
   ]
  },
  {
   "cell_type": "markdown",
   "id": "3dea2fe0-d8f7-4504-80bd-3b4116228a56",
   "metadata": {},
   "source": [
    "python developer | Django Developer at Innovo Technology Islamabad"
   ]
  },
  {
   "cell_type": "markdown",
   "id": "98fc8c41-1d93-4972-95d6-72d042c8d537",
   "metadata": {},
   "source": [
    "working form NOV 2021 to May 2022 as a python django developer there is my work as backend developer using Django Rest FrameWork"
   ]
  },
  {
   "cell_type": "markdown",
   "id": "ad5b1c30-e057-48bc-bb20-3a4397c8598a",
   "metadata": {},
   "source": [
    "python developer | Django Developer at Epazz Lahore"
   ]
  },
  {
   "cell_type": "markdown",
   "id": "7279e29b-428b-499b-9859-a43b61cad1c3",
   "metadata": {},
   "source": [
    "working form  May 2022 to continues as a python django developer there is my work is different software like ROS and other server"
   ]
  },
  {
   "cell_type": "markdown",
   "id": "b7188ce1-caeb-4746-b442-621aa14a0a6a",
   "metadata": {},
   "source": []
  },
  {
   "cell_type": "markdown",
   "id": "26c52a38-1638-4551-9ae7-aa48e20dfb1d",
   "metadata": {},
   "source": [
    "Skill"
   ]
  },
  {
   "cell_type": "markdown",
   "id": "49dbdfbf-4d1d-4890-8d5b-c66c280645d6",
   "metadata": {},
   "source": [
    "Python , Django , Django Rest FrameWork , JavaScript , Docker , "
   ]
  },
  {
   "cell_type": "markdown",
   "id": "df8c5b7b-6752-4a81-a107-f5c7753ff0e4",
   "metadata": {},
   "source": []
  },
  {
   "cell_type": "markdown",
   "id": "c8eadf0d-ef0f-49b3-b582-ac8492d48a5e",
   "metadata": {},
   "source": [
    "Project"
   ]
  },
  {
   "cell_type": "markdown",
   "id": "063bfca6-8ca6-42ab-8586-022b29b9fb58",
   "metadata": {},
   "source": [
    "Job Online Portal \n",
    "Blog website\n",
    "TODO App\n",
    "Hospital managment system\n"
   ]
  },
  {
   "cell_type": "code",
   "execution_count": null,
   "id": "2625cdbd-96cb-4936-8962-9cb28f21cd94",
   "metadata": {},
   "outputs": [],
   "source": []
  },
  {
   "cell_type": "markdown",
   "id": "0bfc7300-655c-4b73-b602-03347a015126",
   "metadata": {},
   "source": [
    "Language\n"
   ]
  },
  {
   "cell_type": "markdown",
   "id": "95845357-b3d6-43e4-918c-3e07ed6c6620",
   "metadata": {},
   "source": [
    "EngliSH\n",
    "Urdu"
   ]
  }
 ],
 "metadata": {
  "kernelspec": {
   "display_name": "Python 3 (ipykernel)",
   "language": "python",
   "name": "python3"
  },
  "language_info": {
   "codemirror_mode": {
    "name": "ipython",
    "version": 3
   },
   "file_extension": ".py",
   "mimetype": "text/x-python",
   "name": "python",
   "nbconvert_exporter": "python",
   "pygments_lexer": "ipython3",
   "version": "3.8.10"
  }
 },
 "nbformat": 4,
 "nbformat_minor": 5
}
